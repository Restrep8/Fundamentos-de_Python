{
  "nbformat": 4,
  "nbformat_minor": 0,
  "metadata": {
    "colab": {
      "provenance": [],
      "authorship_tag": "ABX9TyMe9cTn8IUljTxTSl0mL9ks",
      "include_colab_link": true
    },
    "kernelspec": {
      "name": "python3",
      "display_name": "Python 3"
    },
    "language_info": {
      "name": "python"
    }
  },
  "cells": [
    {
      "cell_type": "markdown",
      "metadata": {
        "id": "view-in-github",
        "colab_type": "text"
      },
      "source": [
        "<a href=\"https://colab.research.google.com/github/Restrep8/Fundamentos_de_Python/blob/main/EP3.ipynb\" target=\"_parent\"><img src=\"https://colab.research.google.com/assets/colab-badge.svg\" alt=\"Open In Colab\"/></a>"
      ]
    },
    {
      "cell_type": "code",
      "execution_count": null,
      "metadata": {
        "id": "t8hEz-dxHF_G"
      },
      "outputs": [],
      "source": [
        "numero_uno = int(input(\"Digite un primer número: \"))\n",
        "\n",
        "numero_dos = int(input(\"Digite un segundo número: \"))\n",
        "\n",
        "numero_tres = int(input(\"Digite un tercer número: \"))\n",
        "\n",
        "if numero_dos < numero_uno > numero_dos:\n",
        "    print(f\"El primer número ({numero_uno}) es el mayor de todos\")\n",
        "\n",
        "elif numero_uno < numero_dos > numero_tres:\n",
        "    print(f\"El segundo número ({numero_dos}) es el mayor de todos\")\n",
        "\n",
        "elif numero_uno < numero_tres > numero_dos:\n",
        "    print(f\"El tercer número ({numero_tres}) es el mayor de todos\")\n",
        "\n",
        "#Para justamente esto, existe la función max()"
      ]
    }
  ]
}