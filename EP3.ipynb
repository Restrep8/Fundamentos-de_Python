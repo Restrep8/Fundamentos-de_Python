{
  "nbformat": 4,
  "nbformat_minor": 0,
  "metadata": {
    "colab": {
      "provenance": [],
      "authorship_tag": "ABX9TyP7VKspCLNvKYk5ZMIgjY7Z",
      "include_colab_link": true
    },
    "kernelspec": {
      "name": "python3",
      "display_name": "Python 3"
    },
    "language_info": {
      "name": "python"
    }
  },
  "cells": [
    {
      "cell_type": "markdown",
      "metadata": {
        "id": "view-in-github",
        "colab_type": "text"
      },
      "source": [
        "<a href=\"https://colab.research.google.com/github/Restrep8/Fundamentos_de_Python/blob/main/EP3.ipynb\" target=\"_parent\"><img src=\"https://colab.research.google.com/assets/colab-badge.svg\" alt=\"Open In Colab\"/></a>"
      ]
    },
    {
      "cell_type": "code",
      "execution_count": null,
      "metadata": {
        "id": "q_5tCQoOMeJI"
      },
      "outputs": [],
      "source": [
        "numero_uno = int(input(\"Digite el primer número: \"))\n",
        "\n",
        "numero_dos = int(input(\"\\nDigite el segundo número: \"))\n",
        "\n",
        "numero_tres = int(input(\"\\nDigite el tercer número: \"))\n",
        "\n",
        "numero_mayor = max(numero_uno, numero_dos, numero_tres)\n",
        "\n",
        "print(f\"\\nEl mayor número es: {numero_mayor}\")"
      ]
    }
  ]
}