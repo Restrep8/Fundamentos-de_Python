{
  "nbformat": 4,
  "nbformat_minor": 0,
  "metadata": {
    "colab": {
      "provenance": [],
      "authorship_tag": "ABX9TyPMONI4HLNssk1suk6erPPc",
      "include_colab_link": true
    },
    "kernelspec": {
      "name": "python3",
      "display_name": "Python 3"
    },
    "language_info": {
      "name": "python"
    }
  },
  "cells": [
    {
      "cell_type": "markdown",
      "metadata": {
        "id": "view-in-github",
        "colab_type": "text"
      },
      "source": [
        "<a href=\"https://colab.research.google.com/github/Restrep8/Fundamentos_de_Python/blob/main/EP5.ipynb\" target=\"_parent\"><img src=\"https://colab.research.google.com/assets/colab-badge.svg\" alt=\"Open In Colab\"/></a>"
      ]
    },
    {
      "cell_type": "code",
      "execution_count": null,
      "metadata": {
        "id": "EYEGEAtHbvIF"
      },
      "outputs": [],
      "source": [
        "x = 0\n",
        "y = 1\n",
        "fibonacci = 0\n",
        "\n",
        "while fibonacci <= 1597:\n",
        "    print(fibonacci, end=\" \")\n",
        "    fibonacci = x + y\n",
        "    x = y\n",
        "    y = fibonacci"
      ]
    }
  ]
}