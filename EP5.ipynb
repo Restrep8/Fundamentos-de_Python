{
  "nbformat": 4,
  "nbformat_minor": 0,
  "metadata": {
    "colab": {
      "provenance": [],
      "include_colab_link": true
    },
    "kernelspec": {
      "name": "python3",
      "display_name": "Python 3"
    },
    "language_info": {
      "name": "python"
    }
  },
  "cells": [
    {
      "cell_type": "markdown",
      "metadata": {
        "id": "view-in-github",
        "colab_type": "text"
      },
      "source": [
        "<a href=\"https://colab.research.google.com/github/Restrep8/Fundamentos_de_Python/blob/main/EP5.ipynb\" target=\"_parent\"><img src=\"https://colab.research.google.com/assets/colab-badge.svg\" alt=\"Open In Colab\"/></a>"
      ]
    },
    {
      "cell_type": "code",
      "execution_count": 16,
      "metadata": {
        "id": "EYEGEAtHbvIF",
        "outputId": "93b3c1e2-f0df-44ca-e842-97015dbd9819",
        "colab": {
          "base_uri": "https://localhost:8080/"
        }
      },
      "outputs": [
        {
          "output_type": "stream",
          "name": "stdout",
          "text": [
            "0 1 1 2 3 5 8 13 21 34 55 89 144 233 377 610 987 1597 "
          ]
        }
      ],
      "source": [
        "x = 0\n",
        "y = 1\n",
        "\n",
        "while x <= 1597:\n",
        "    print(x, y, end=\" \")\n",
        "    x = x + y\n",
        "    y = y + x"
      ]
    }
  ]
}