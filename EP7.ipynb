{
  "nbformat": 4,
  "nbformat_minor": 0,
  "metadata": {
    "colab": {
      "provenance": [],
      "include_colab_link": true
    },
    "kernelspec": {
      "name": "python3",
      "display_name": "Python 3"
    },
    "language_info": {
      "name": "python"
    }
  },
  "cells": [
    {
      "cell_type": "markdown",
      "metadata": {
        "id": "view-in-github",
        "colab_type": "text"
      },
      "source": [
        "<a href=\"https://colab.research.google.com/github/Restrep8/Fundamentos_de_Python/blob/main/EP7.ipynb\" target=\"_parent\"><img src=\"https://colab.research.google.com/assets/colab-badge.svg\" alt=\"Open In Colab\"/></a>"
      ]
    },
    {
      "cell_type": "code",
      "execution_count": null,
      "metadata": {
        "id": "2IzDCyYlHKiy"
      },
      "outputs": [],
      "source": [
        "cadena_original = input(\"Digite una cadena de caracteres: \")\n",
        "\n",
        "cadena_invertida = \"\"\n",
        "\n",
        "for i in range(len(cadena_original) - 1, -1, -1):\n",
        "    cadena_invertida += cadena_original[i]\n",
        "\n",
        "print(f\"RESULTADO: {cadena_invertida}\")"
      ]
    }
  ]
}