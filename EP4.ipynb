{
  "nbformat": 4,
  "nbformat_minor": 0,
  "metadata": {
    "colab": {
      "provenance": [],
      "authorship_tag": "ABX9TyMxtsRqlof2ppV+ca4VmoZn",
      "include_colab_link": true
    },
    "kernelspec": {
      "name": "python3",
      "display_name": "Python 3"
    },
    "language_info": {
      "name": "python"
    }
  },
  "cells": [
    {
      "cell_type": "markdown",
      "metadata": {
        "id": "view-in-github",
        "colab_type": "text"
      },
      "source": [
        "<a href=\"https://colab.research.google.com/github/Restrep8/Fundamentos_de_Python/blob/main/EP4.ipynb\" target=\"_parent\"><img src=\"https://colab.research.google.com/assets/colab-badge.svg\" alt=\"Open In Colab\"/></a>"
      ]
    },
    {
      "cell_type": "code",
      "execution_count": null,
      "metadata": {
        "id": "_4s5YTVZMxpD"
      },
      "outputs": [],
      "source": [
        "numero = int(input(\"Digita el primer número: \"))\n",
        "\n",
        "operacion = int(input(\"\\n¿Qué operación quieres realizar?\\n1. Suma\\n2. Resta\\n3. Multiplicación\\n4. División\\n5. División Entera\\n6. Potenciación\\n7. Módulo\\n= \"))\n",
        "\n",
        "numero_dos = int(input(\"\\nDigita el segundo número: \"))\n",
        "\n",
        "if operacion == 1:\n",
        "  print(\"\\nSUMA\")\n",
        "  numero += numero_dos\n",
        "  print(numero)\n",
        "\n",
        "elif operacion == 2:\n",
        "  print(\"\\nRESTA\")\n",
        "  numero -= numero_dos\n",
        "  print(numero)\n",
        "\n",
        "elif operacion == 3:\n",
        "  print(\"\\nMULTIPLICACIÓN\")\n",
        "  numero *= numero_dos\n",
        "  print(numero)\n",
        "\n",
        "elif operacion == 4:\n",
        "  print(\"\\nDIVISIÓN\")\n",
        "  numero /= numero_dos\n",
        "  print(numero)\n",
        "\n",
        "elif operacion == 5:\n",
        "  print(\"\\nDIVISIÓN ENTERA\")\n",
        "  numero //= numero_dos\n",
        "  print(numero)\n",
        "\n",
        "elif operacion == 6:\n",
        "  print(\"\\nPOTENCIACIÓN\")\n",
        "  numero **= numero_dos\n",
        "  print(numero)\n",
        "\n",
        "elif operacion == 7:\n",
        "  print(\"\\nMÓDULO\")\n",
        "  numero %= numero_dos\n",
        "  print(numero)"
      ]
    }
  ]
}