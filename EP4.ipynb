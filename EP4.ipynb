{
  "nbformat": 4,
  "nbformat_minor": 0,
  "metadata": {
    "colab": {
      "provenance": [],
      "include_colab_link": true
    },
    "kernelspec": {
      "name": "python3",
      "display_name": "Python 3"
    },
    "language_info": {
      "name": "python"
    }
  },
  "cells": [
    {
      "cell_type": "markdown",
      "metadata": {
        "id": "view-in-github",
        "colab_type": "text"
      },
      "source": [
        "<a href=\"https://colab.research.google.com/github/Restrep8/Fundamentos_de_Python/blob/main/EP4.ipynb\" target=\"_parent\"><img src=\"https://colab.research.google.com/assets/colab-badge.svg\" alt=\"Open In Colab\"/></a>"
      ]
    },
    {
      "cell_type": "code",
      "execution_count": 2,
      "metadata": {
        "id": "_4s5YTVZMxpD",
        "outputId": "0e94de5a-0e8f-484f-edaa-f385ea7ef61d",
        "colab": {
          "base_uri": "https://localhost:8080/"
        }
      },
      "outputs": [
        {
          "output_type": "stream",
          "name": "stdout",
          "text": [
            "Digita el primer número: 8\n",
            "\n",
            "Digita el segundo número: 16\n",
            "\n",
            "¿Qué operación quieres realizar?\n",
            "1. Suma\n",
            "2. Resta\n",
            "3. Multiplicación\n",
            "4. División\n",
            "5. División Entera\n",
            "6. Potenciación\n",
            "7. Módulo\n",
            "= 3\n",
            "\n",
            "MULTIPLICACIÓN\n",
            "128\n"
          ]
        }
      ],
      "source": [
        "numero = int(input(\"Digita el primer número: \"))\n",
        "\n",
        "numero_dos = int(input(\"\\nDigita el segundo número: \"))\n",
        "\n",
        "operacion = int(input(\"\\n¿Qué operación quieres realizar?\\n1. Suma\\n2. Resta\\n3. Multiplicación\\n4. División\\n5. División Entera\\n6. Potenciación\\n7. Módulo\\n= \"))\n",
        "\n",
        "if operacion == 1:\n",
        "  print(\"\\nSUMA\")\n",
        "  numero += numero_dos\n",
        "  print(numero)\n",
        "\n",
        "elif operacion == 2:\n",
        "  print(\"\\nRESTA\")\n",
        "  numero -= numero_dos\n",
        "  print(numero)\n",
        "\n",
        "elif operacion == 3:\n",
        "  print(\"\\nMULTIPLICACIÓN\")\n",
        "  numero *= numero_dos\n",
        "  print(numero)\n",
        "\n",
        "elif operacion == 4:\n",
        "  print(\"\\nDIVISIÓN\")\n",
        "  numero /= numero_dos\n",
        "  print(numero)\n",
        "\n",
        "elif operacion == 5:\n",
        "  print(\"\\nDIVISIÓN ENTERA\")\n",
        "  numero //= numero_dos\n",
        "  print(numero)\n",
        "\n",
        "elif operacion == 6:\n",
        "  print(\"\\nPOTENCIACIÓN\")\n",
        "  numero **= numero_dos\n",
        "  print(numero)\n",
        "\n",
        "elif operacion == 7:\n",
        "  print(\"\\nMÓDULO\")\n",
        "  numero %= numero_dos\n",
        "  print(numero)"
      ]
    }
  ]
}