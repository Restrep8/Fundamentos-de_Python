{
  "nbformat": 4,
  "nbformat_minor": 0,
  "metadata": {
    "colab": {
      "provenance": [],
      "authorship_tag": "ABX9TyPptbv838UvF0BEYE43edqS",
      "include_colab_link": true
    },
    "kernelspec": {
      "name": "python3",
      "display_name": "Python 3"
    },
    "language_info": {
      "name": "python"
    }
  },
  "cells": [
    {
      "cell_type": "markdown",
      "metadata": {
        "id": "view-in-github",
        "colab_type": "text"
      },
      "source": [
        "<a href=\"https://colab.research.google.com/github/Restrep8/Fundamentos_de_Python/blob/main/EP10.ipynb\" target=\"_parent\"><img src=\"https://colab.research.google.com/assets/colab-badge.svg\" alt=\"Open In Colab\"/></a>"
      ]
    },
    {
      "cell_type": "code",
      "execution_count": null,
      "metadata": {
        "id": "kllRCDWXT22A"
      },
      "outputs": [],
      "source": [
        "lista = []\n",
        "\n",
        "longitud = int(input(\"Digite la longitud de la lista: \"))\n",
        "\n",
        "for i in range(longitud):\n",
        "    elemento = int(input(f\"\\nIngrese el elemento {i + 1}: \"))\n",
        "    lista.append(elemento)\n",
        "\n",
        "suma = sum(lista)\n",
        "\n",
        "print(f\"\\nLista: {lista}\")\n",
        "print(f\"\\nLa suma de todos los elementos es: {suma}\")"
      ]
    }
  ]
}