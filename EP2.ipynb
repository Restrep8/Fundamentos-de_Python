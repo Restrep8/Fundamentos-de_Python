{
  "nbformat": 4,
  "nbformat_minor": 0,
  "metadata": {
    "colab": {
      "provenance": [],
      "authorship_tag": "ABX9TyMrey+XbjilTEy7B55xRsWf",
      "include_colab_link": true
    },
    "kernelspec": {
      "name": "python3",
      "display_name": "Python 3"
    },
    "language_info": {
      "name": "python"
    }
  },
  "cells": [
    {
      "cell_type": "markdown",
      "metadata": {
        "id": "view-in-github",
        "colab_type": "text"
      },
      "source": [
        "<a href=\"https://colab.research.google.com/github/Restrep8/Fundamentos_de_Python/blob/main/EP2.ipynb\" target=\"_parent\"><img src=\"https://colab.research.google.com/assets/colab-badge.svg\" alt=\"Open In Colab\"/></a>"
      ]
    },
    {
      "cell_type": "code",
      "execution_count": null,
      "metadata": {
        "id": "Qk2CNmnqKrq_"
      },
      "outputs": [],
      "source": [
        "numero = int(input(\"Digite un número entero: \"))\n",
        "\n",
        "if numero % 2 == 0:\n",
        "    print(f\"\\nEl número {numero} es par\")\n",
        "else:\n",
        "    print(f\"\\nEl número {numero} es impar\")"
      ]
    }
  ]
}