{
  "nbformat": 4,
  "nbformat_minor": 0,
  "metadata": {
    "colab": {
      "provenance": [],
      "authorship_tag": "ABX9TyOiHwAJAEr3WrD2hJoBy7MU",
      "include_colab_link": true
    },
    "kernelspec": {
      "name": "python3",
      "display_name": "Python 3"
    },
    "language_info": {
      "name": "python"
    }
  },
  "cells": [
    {
      "cell_type": "markdown",
      "metadata": {
        "id": "view-in-github",
        "colab_type": "text"
      },
      "source": [
        "<a href=\"https://colab.research.google.com/github/Restrep8/Fundamentos_de_Python/blob/main/EP8.ipynb\" target=\"_parent\"><img src=\"https://colab.research.google.com/assets/colab-badge.svg\" alt=\"Open In Colab\"/></a>"
      ]
    },
    {
      "cell_type": "code",
      "execution_count": null,
      "metadata": {
        "id": "RNIBL_GlDwjJ"
      },
      "outputs": [],
      "source": [
        "numero = int(input(\"Digita un número para ver su tabla de multiplicar: \"))\n",
        "\n",
        "for i in range(numero-numero, 11):\n",
        "  print(f\"\\n{numero}*{i}={numero*i}\")"
      ]
    }
  ]
}