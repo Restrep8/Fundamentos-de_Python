{
  "nbformat": 4,
  "nbformat_minor": 0,
  "metadata": {
    "colab": {
      "provenance": [],
      "authorship_tag": "ABX9TyPRihEVHlFm4mltJ++OxWqz",
      "include_colab_link": true
    },
    "kernelspec": {
      "name": "python3",
      "display_name": "Python 3"
    },
    "language_info": {
      "name": "python"
    }
  },
  "cells": [
    {
      "cell_type": "markdown",
      "metadata": {
        "id": "view-in-github",
        "colab_type": "text"
      },
      "source": [
        "<a href=\"https://colab.research.google.com/github/Restrep8/Fundamentos_de_Python/blob/main/EP9.ipynb\" target=\"_parent\"><img src=\"https://colab.research.google.com/assets/colab-badge.svg\" alt=\"Open In Colab\"/></a>"
      ]
    },
    {
      "cell_type": "code",
      "execution_count": 8,
      "metadata": {
        "colab": {
          "base_uri": "https://localhost:8080/"
        },
        "id": "KHynclDePfJd",
        "outputId": "365afcfc-b281-4c0c-bf2b-eb97750269bc"
      },
      "outputs": [
        {
          "output_type": "stream",
          "name": "stdout",
          "text": [
            "Digite una frase: samuel estudia python\n",
            "Digite un caracter en especifico: y\n",
            "sml std p"
          ]
        }
      ],
      "source": [
        "frase = input(\"Digite una frase: \")\n",
        "\n",
        "caracter = input(\"Digite un caracter en especifico: \")\n",
        "\n",
        "for letra in frase:\n",
        "  if letra.lower() == caracter.lower():\n",
        "    break\n",
        "  elif letra.lower() == \"a\":\n",
        "    continue\n",
        "  elif letra.lower() == \"e\":\n",
        "    continue\n",
        "  elif letra.lower() == \"i\":\n",
        "    continue\n",
        "  elif letra.lower() == \"o\":\n",
        "    continue\n",
        "  elif letra.lower() == \"u\":\n",
        "    continue\n",
        "  print(letra, end=\"\")\n"
      ]
    }
  ]
}