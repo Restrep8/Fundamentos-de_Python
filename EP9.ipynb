{
  "nbformat": 4,
  "nbformat_minor": 0,
  "metadata": {
    "colab": {
      "provenance": [],
      "authorship_tag": "ABX9TyOx44gb5ybmKYZrYJqZwk/E",
      "include_colab_link": true
    },
    "kernelspec": {
      "name": "python3",
      "display_name": "Python 3"
    },
    "language_info": {
      "name": "python"
    }
  },
  "cells": [
    {
      "cell_type": "markdown",
      "metadata": {
        "id": "view-in-github",
        "colab_type": "text"
      },
      "source": [
        "<a href=\"https://colab.research.google.com/github/Restrep8/Fundamentos_de_Python/blob/main/EP9.ipynb\" target=\"_parent\"><img src=\"https://colab.research.google.com/assets/colab-badge.svg\" alt=\"Open In Colab\"/></a>"
      ]
    },
    {
      "cell_type": "code",
      "execution_count": null,
      "metadata": {
        "id": "5d1jzi-GufOz"
      },
      "outputs": [],
      "source": [
        "frase = input(\"Digite una frase: \")\n",
        "\n",
        "caracter = input(\"Digite un caracter en especifico: \")\n",
        "\n",
        "for vocal in frase:\n",
        "  if vocal.lower() == caracter.lower():\n",
        "    break\n",
        "  elif vocal.lower() == \"a\":\n",
        "    continue\n",
        "  elif vocal.lower() == \"e\":\n",
        "    continue\n",
        "  elif vocal.lower() == \"i\":\n",
        "    continue\n",
        "  elif vocal.lower() == \"o\":\n",
        "    continue\n",
        "  elif vocal.lower() == \"u\":\n",
        "    continue\n",
        "  print(vocal, end=\"\")"
      ]
    }
  ]
}