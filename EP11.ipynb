{
  "nbformat": 4,
  "nbformat_minor": 0,
  "metadata": {
    "colab": {
      "provenance": [],
      "authorship_tag": "ABX9TyMhPuMRRIpeGjQWShie1nZ0",
      "include_colab_link": true
    },
    "kernelspec": {
      "name": "python3",
      "display_name": "Python 3"
    },
    "language_info": {
      "name": "python"
    }
  },
  "cells": [
    {
      "cell_type": "markdown",
      "metadata": {
        "id": "view-in-github",
        "colab_type": "text"
      },
      "source": [
        "<a href=\"https://colab.research.google.com/github/Restrep8/Fundamentos_de_Python/blob/main/EP11.ipynb\" target=\"_parent\"><img src=\"https://colab.research.google.com/assets/colab-badge.svg\" alt=\"Open In Colab\"/></a>"
      ]
    },
    {
      "cell_type": "code",
      "execution_count": null,
      "metadata": {
        "id": "FA0Vjvea72p8"
      },
      "outputs": [],
      "source": [
        "lista = [\"A\", \"B\", \"b\", \"c\", \"E\", \"E\", \"f\"]\n",
        "\n",
        "eliminar_elemento = input(f\"Digite el elemento que quiera eliminar de {lista}: \").lower()\n",
        "\n",
        "nueva_lista = []\n",
        "for elemento in lista:\n",
        "    if elemento.lower() != eliminar_elemento:\n",
        "        nueva_lista.append(elemento)\n",
        "\n",
        "print(f\"\\nLista: {nueva_lista}\")"
      ]
    }
  ]
}