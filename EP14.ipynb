{
  "nbformat": 4,
  "nbformat_minor": 0,
  "metadata": {
    "colab": {
      "provenance": [],
      "authorship_tag": "ABX9TyO8HyaAQGmfEEuA0ibycybR",
      "include_colab_link": true
    },
    "kernelspec": {
      "name": "python3",
      "display_name": "Python 3"
    },
    "language_info": {
      "name": "python"
    }
  },
  "cells": [
    {
      "cell_type": "markdown",
      "metadata": {
        "id": "view-in-github",
        "colab_type": "text"
      },
      "source": [
        "<a href=\"https://colab.research.google.com/github/Restrep8/Fundamentos_de_Python/blob/main/EP14.ipynb\" target=\"_parent\"><img src=\"https://colab.research.google.com/assets/colab-badge.svg\" alt=\"Open In Colab\"/></a>"
      ]
    },
    {
      "cell_type": "code",
      "execution_count": null,
      "metadata": {
        "id": "Be7_HB0fQrQX"
      },
      "outputs": [],
      "source": [
        "cantidad_matrices = int(input(\"Digite el número de matrices que quiere sumar: \"))\n",
        "\n",
        "while cantidad_matrices < 2:\n",
        "    print(\"\\nTienes que sumar al menos 2 matrices\")\n",
        "    cantidad_matrices = int(input(\"Digite el número de matrices que quiere sumar: \"))\n",
        "\n",
        "matrices = []\n",
        "\n",
        "for i in range(cantidad_matrices):\n",
        "    filas = int(input(f\"\\nDigite la cantidad de FILAS para la matriz #{i + 1}: \"))\n",
        "    columnas = int(input(f\"Digite la cantidad de COLUMNAS para la matriz #{i + 1}: \"))\n",
        "    matriz = [[int(input(f\"\\nDigite el valor para la posición ({fila + 1}, {columna + 1}) de la matriz #{i + 1}: \")) for columna in range(columnas)] for fila in range(filas)]\n",
        "    matrices.append(matriz)\n",
        "\n",
        "resultado = matrices[0]\n",
        "for matriz in matrices[1:]:\n",
        "    if len(matriz) != len(resultado) or len(matriz[0]) != len(resultado[0]):\n",
        "        print(\"No se pueden sumar matrices de diferentes tamaños.\")\n",
        "        break\n",
        "    resultado = [[resultado[i][j] + matriz[i][j] for j in range(len(resultado[0]))] for i in range(len(resultado))]\n",
        "\n",
        "print(\"\\nSUMA DE MATRICES:\")\n",
        "for i, matriz in enumerate(matrices):\n",
        "    print(f\"+\")\n",
        "    for row in matriz:\n",
        "        for element in row:\n",
        "            print(element, end=\" \")\n",
        "        print()\n",
        "\n",
        "print(\"=\")\n",
        "for row in resultado:\n",
        "    for element in row:\n",
        "        print(element, end=\" \")\n",
        "    print()"
      ]
    }
  ]
}