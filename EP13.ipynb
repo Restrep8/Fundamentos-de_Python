{
  "nbformat": 4,
  "nbformat_minor": 0,
  "metadata": {
    "colab": {
      "provenance": [],
      "authorship_tag": "ABX9TyOVN82B/3rTAdIDkPl6sg3E",
      "include_colab_link": true
    },
    "kernelspec": {
      "name": "python3",
      "display_name": "Python 3"
    },
    "language_info": {
      "name": "python"
    }
  },
  "cells": [
    {
      "cell_type": "markdown",
      "metadata": {
        "id": "view-in-github",
        "colab_type": "text"
      },
      "source": [
        "<a href=\"https://colab.research.google.com/github/Restrep8/Fundamentos_de_Python/blob/main/EP13.ipynb\" target=\"_parent\"><img src=\"https://colab.research.google.com/assets/colab-badge.svg\" alt=\"Open In Colab\"/></a>"
      ]
    },
    {
      "cell_type": "code",
      "execution_count": null,
      "metadata": {
        "id": "WLvcoCIRd4Wk"
      },
      "outputs": [],
      "source": [
        "filas = int(input(\"Digite la cantidad de FILAS que quiere que tenga la matriz: \"))\n",
        "columnas = int(input(\"Digite la cantidad de COLUMNAS que quiere que tenga la matriz: \"))\n",
        "\n",
        "matrix = []\n",
        "\n",
        "for i in range(filas):\n",
        "    fila = []\n",
        "    for j in range(columnas):\n",
        "        valor = int(input(f\"\\nDigite el valor para la posición ({i+1}, {j+1}): \"))\n",
        "        fila.append(valor)\n",
        "    matrix.append(fila)\n",
        "\n",
        "print(\"\\nMATRIZ RESULTANTE:\")\n",
        "for row in matrix:\n",
        "    for element in row:\n",
        "        print(element, end=\" \")\n",
        "    print()"
      ]
    }
  ]
}